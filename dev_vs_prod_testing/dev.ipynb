{
 "cells": [
  {
   "cell_type": "code",
   "execution_count": 1,
   "metadata": {},
   "outputs": [],
   "source": [
    "import pandas as pd\n",
    "from dashboard_validator import LookerEnvironment,Dashboard\n",
    "import configparser\n"
   ]
  },
  {
   "cell_type": "code",
   "execution_count": 2,
   "metadata": {},
   "outputs": [
    {
     "data": {
      "text/plain": [
       "['VM', 'Teach', 'Looker']"
      ]
     },
     "execution_count": 2,
     "metadata": {},
     "output_type": "execute_result"
    }
   ],
   "source": [
    "config = configparser.ConfigParser()\n",
    "config.read('looker.ini')\n",
    "config.sections()"
   ]
  },
  {
   "cell_type": "code",
   "execution_count": 9,
   "metadata": {},
   "outputs": [
    {
     "data": {
      "text/plain": [
       "'rr_testing_dev_vs_prod'"
      ]
     },
     "execution_count": 9,
     "metadata": {},
     "output_type": "execute_result"
    }
   ],
   "source": [
    "config['VM']['dev_branch']"
   ]
  },
  {
   "cell_type": "code",
   "execution_count": 3,
   "metadata": {},
   "outputs": [],
   "source": [
    "\n",
    "prod = LookerEnvironment('production',config_instance='VM')"
   ]
  },
  {
   "cell_type": "code",
   "execution_count": 4,
   "metadata": {},
   "outputs": [
    {
     "data": {
      "text/plain": [
       "User(can={'show': True, 'index': True, 'show_details': True, 'index_details': True, 'sudo': False}, avatar_url='https://gravatar.lookercdn.com/avatar/7f0e5a9b4ce4403cffb5aa5df3bdaa6d?s=156&d=blank', avatar_url_without_sizing='https://gravatar.lookercdn.com/avatar/7f0e5a9b4ce4403cffb5aa5df3bdaa6d?d=blank', credentials_api3=[CredentialsApi3(can={}, id='1', client_id='SYBt9PRFmfY4W4z83Jx8', created_at='2022-10-26T20:48:16.975+00:00', is_disabled=False, type='api3', url='https://localhost:19999/api/4.0/users/1/credentials_api3/1')], credentials_email=CredentialsEmail(can={'show_password_reset_url': True}, created_at='2022-10-19T19:07:13.973+00:00', email='ryanrezvani@google.com', forced_password_reset_at_next_login=False, is_disabled=False, logged_in_at='2023-04-02T23:03:49.202+00:00', password_reset_url='', type='email', url='https://localhost:19999/api/4.0/users/1/credentials_email', user_url='https://localhost:19999/api/4.0/users/1'), credentials_embed=[], credentials_google=None, credentials_ldap=None, credentials_looker_openid=None, credentials_oidc=None, credentials_saml=None, credentials_totp=None, display_name='Ryan Rezvani', email='ryanrezvani@google.com', embed_group_space_id=None, first_name='Ryan', group_ids=['1'], home_folder_id='1', id='1', is_disabled=False, last_name='Rezvani', locale='en', looker_versions=['22.16.46'], models_dir_validated=True, personal_folder_id='5', presumed_looker_employee=True, role_ids=['2'], sessions=[Session(can={}, id='10', ip_address='71.105.184.81', browser='Chrome', operating_system='OS X 10.15.7', city='New York', state='New York', country='US', credentials_type='email', extended_at='', extended_count=0, sudo_user_id=None, created_at='2023-04-02T23:03:49.214+00:00', expires_at='2023-05-02T23:03:49.211+00:00', url='https://localhost:19999/api/4.0/users/1/sessions/10')], ui_state={'homepageGroupIdPreference': '1', 'homepagePopularGroupIdPreference': '1'}, verified_looker_employee=False, roles_externally_managed=False, allow_direct_roles=True, allow_normal_group_membership=True, allow_roles_from_normal_groups=True, embed_group_folder_id=None, url='https://localhost:19999/api/4.0/users/1')"
      ]
     },
     "execution_count": 4,
     "metadata": {},
     "output_type": "execute_result"
    }
   ],
   "source": [
    "prod.me"
   ]
  },
  {
   "cell_type": "code",
   "execution_count": 5,
   "metadata": {},
   "outputs": [],
   "source": [
    "dashboard = Dashboard('2')"
   ]
  },
  {
   "cell_type": "code",
   "execution_count": 8,
   "metadata": {},
   "outputs": [],
   "source": [
    "prod_tiles = dashboard.get_all_dashboard_elements(prod.sdk)"
   ]
  },
  {
   "cell_type": "code",
   "execution_count": 27,
   "metadata": {},
   "outputs": [
    {
     "name": "stdout",
     "output_type": "stream",
     "text": [
      "JHU Covid\n",
      "{\"text\":\"Next\",\"description\":\"Goes to ReadME\",\"newTab\":true,\"alignment\":\"center\",\"size\":\"medium\",\"style\":\"FILLED\",\"color\":\"#1A73E8\",\"href\":\"/projects/looker_ssh/documents/README.md\"}\n",
      "{\"text\":\"Back\",\"description\":\"\",\"newTab\":true,\"alignment\":\"center\",\"size\":\"medium\",\"style\":\"FILLED\",\"color\":\"#EA4335\",\"href\":\"/dashboards/3\"}\n",
      "Report Date Range\n",
      "Report ReadMe\n",
      "{\"format\":\"slate\"}\n",
      "Merged Results Example\n"
     ]
    }
   ],
   "source": [
    "for tile in prod_tiles: \n",
    "    \n",
    "\n",
    "    if tile.title:\n",
    "        print(tile.title)\n",
    "    if tile.rich_content_json:\n",
    "        print(tile.rich_content_json)\n",
    "\n",
    "    if tile.title_text_as_html:\n",
    "        print(tile.title_text_as_html)\n",
    "    "
   ]
  },
  {
   "cell_type": "code",
   "execution_count": 26,
   "metadata": {},
   "outputs": [
    {
     "data": {
      "text/plain": [
       "{'can': {'create': True,\n",
       "  'update': True,\n",
       "  'destroy': True,\n",
       "  'see_aggregate_table_lookml': False,\n",
       "  'index': True,\n",
       "  'show': True,\n",
       "  'explore': False,\n",
       "  'run': False,\n",
       "  'show_errors': True,\n",
       "  'find_and_replace': True},\n",
       " 'body_text': '[{\"type\":\"h1\",\"children\":[{\"text\":\"Support\",\"bold\":true,\"color\":\"hsl(219, 72%, 66%)\"}]},{\"type\":\"p\",\"children\":[{\"text\":\"For support please contact: support@looker.com\"}],\"id\":1681239876208}]',\n",
       " 'body_text_as_html': '<p>[{“type”:”h1”,”children”:[{“text”:”Support”,”bold”:true,”color”:”hsl(219, 72%, 66%)”}]},{“type”:”p”,”children”:[{“text”:”For support please contact: support@looker.com”}],”id”:1681239876208}]</p>\\n',\n",
       " 'dashboard_id': '2',\n",
       " 'edit_uri': None,\n",
       " 'id': '11',\n",
       " 'look': None,\n",
       " 'look_id': None,\n",
       " 'lookml_link_id': '',\n",
       " 'merge_result_id': None,\n",
       " 'note_display': None,\n",
       " 'note_state': None,\n",
       " 'note_text': None,\n",
       " 'note_text_as_html': None,\n",
       " 'query': None,\n",
       " 'query_id': None,\n",
       " 'refresh_interval': None,\n",
       " 'refresh_interval_to_i': None,\n",
       " 'result_maker': None,\n",
       " 'result_maker_id': None,\n",
       " 'subtitle_text': '',\n",
       " 'title': None,\n",
       " 'title_hidden': False,\n",
       " 'title_text': '',\n",
       " 'type': 'text',\n",
       " 'alert_count': 0,\n",
       " 'rich_content_json': '{\"format\":\"slate\"}',\n",
       " 'title_text_as_html': None,\n",
       " 'subtitle_text_as_html': None,\n",
       " 'extension_id': None}"
      ]
     },
     "execution_count": 26,
     "metadata": {},
     "output_type": "execute_result"
    }
   ],
   "source": [
    "prod_tiles[5].__dict__\n"
   ]
  },
  {
   "cell_type": "code",
   "execution_count": 6,
   "metadata": {},
   "outputs": [],
   "source": [
    "all_dashboards = prod.sdk.all_dashboards()"
   ]
  },
  {
   "cell_type": "code",
   "execution_count": 35,
   "metadata": {},
   "outputs": [
    {
     "data": {
      "text/plain": [
       "{'can': {'download': True,\n",
       "  'see_aggregate_table_lookml': True,\n",
       "  'index': True,\n",
       "  'show': True,\n",
       "  'copy': True,\n",
       "  'run': True,\n",
       "  'create': True,\n",
       "  'move': True,\n",
       "  'update': True,\n",
       "  'destroy': True,\n",
       "  'recover': True,\n",
       "  'see_lookml': True,\n",
       "  'schedule': True},\n",
       " 'content_favorite_id': None,\n",
       " 'content_metadata_id': '12',\n",
       " 'description': '',\n",
       " 'hidden': False,\n",
       " 'id': '1',\n",
       " 'model': None,\n",
       " 'query_timezone': None,\n",
       " 'readonly': False,\n",
       " 'refresh_interval': None,\n",
       " 'refresh_interval_to_i': None,\n",
       " 'folder': FolderBase(name='JHU1', parent_id='7', id='6', content_metadata_id='13', created_at=datetime.datetime(2022, 10, 24, 18, 57, 20, 645000, tzinfo=datetime.timezone.utc), creator_id='1', child_count=3, external_id='', is_embed=False, is_embed_shared_root=False, is_embed_users_root=False, is_personal=False, is_personal_descendant=False, is_shared_root=False, is_users_root=False, can={'index': True, 'show': True, 'create': True, 'see_admin_spaces': True, 'save_shared_space_as_embed_user': True, 'destroy': True, 'update': True, 'move_content': True, 'edit_content': True}),\n",
       " 'title': 'JHU Covid',\n",
       " 'user_id': '1',\n",
       " 'slug': 'USkbMc031UPggEwToxf6zQ',\n",
       " 'preferred_viewer': 'dashboards-next'}"
      ]
     },
     "execution_count": 35,
     "metadata": {},
     "output_type": "execute_result"
    }
   ],
   "source": [
    "all_dashboards[0].__dict__"
   ]
  },
  {
   "cell_type": "code",
   "execution_count": 11,
   "metadata": {},
   "outputs": [
    {
     "data": {
      "text/plain": [
       "'1'"
      ]
     },
     "execution_count": 11,
     "metadata": {},
     "output_type": "execute_result"
    }
   ],
   "source": [
    "all_dashboards[0].id"
   ]
  },
  {
   "cell_type": "code",
   "execution_count": 66,
   "metadata": {},
   "outputs": [],
   "source": [
    "dash_1 = Dashboard('2')"
   ]
  },
  {
   "cell_type": "code",
   "execution_count": 67,
   "metadata": {},
   "outputs": [],
   "source": [
    "tiles = dash_1.get_all_dashboard_elements(prod.sdk)"
   ]
  },
  {
   "cell_type": "code",
   "execution_count": 68,
   "metadata": {},
   "outputs": [
    {
     "data": {
      "text/plain": [
       "{'can': {'create': True,\n",
       "  'update': True,\n",
       "  'destroy': True,\n",
       "  'see_aggregate_table_lookml': False,\n",
       "  'index': True,\n",
       "  'show': True,\n",
       "  'explore': False,\n",
       "  'run': False,\n",
       "  'show_errors': True,\n",
       "  'find_and_replace': True},\n",
       " 'body_text': None,\n",
       " 'body_text_as_html': None,\n",
       " 'dashboard_id': '2',\n",
       " 'edit_uri': None,\n",
       " 'id': '4',\n",
       " 'look': None,\n",
       " 'look_id': None,\n",
       " 'lookml_link_id': '',\n",
       " 'merge_result_id': None,\n",
       " 'note_display': None,\n",
       " 'note_state': None,\n",
       " 'note_text': None,\n",
       " 'note_text_as_html': None,\n",
       " 'query': None,\n",
       " 'query_id': None,\n",
       " 'refresh_interval': None,\n",
       " 'refresh_interval_to_i': None,\n",
       " 'result_maker': None,\n",
       " 'result_maker_id': None,\n",
       " 'subtitle_text': None,\n",
       " 'title': None,\n",
       " 'title_hidden': False,\n",
       " 'title_text': None,\n",
       " 'type': 'button',\n",
       " 'alert_count': 0,\n",
       " 'rich_content_json': '{\"text\":\"Home Page\",\"description\":\"Goes to ReadME\",\"newTab\":true,\"alignment\":\"center\",\"size\":\"medium\",\"style\":\"FILLED\",\"color\":\"#1A73E8\",\"href\":\"/projects/looker_ssh/documents/README.md\"}',\n",
       " 'title_text_as_html': None,\n",
       " 'subtitle_text_as_html': None,\n",
       " 'extension_id': None}"
      ]
     },
     "execution_count": 68,
     "metadata": {},
     "output_type": "execute_result"
    }
   ],
   "source": [
    "tiles[0].__dict__"
   ]
  },
  {
   "cell_type": "code",
   "execution_count": 71,
   "metadata": {},
   "outputs": [
    {
     "name": "stdout",
     "output_type": "stream",
     "text": [
      "{\"text\":\"Home Page\",\"description\":\"Goes to ReadME\",\"newTab\":true,\"alignment\":\"center\",\"size\":\"medium\",\"style\":\"FILLED\",\"color\":\"#1A73E8\",\"href\":\"/projects/looker_ssh/documents/README.md\"}\n",
      "{\"text\":\"Zocdoc Explores\",\"description\":\"\",\"newTab\":true,\"alignment\":\"center\",\"size\":\"medium\",\"style\":\"FILLED\",\"color\":\"#EA4335\",\"href\":\"/dashboards/3\"}\n",
      "Query(model='jhu_covid', view='extended_jhu_templted_filter', can={'run': True, 'see_results': True, 'explore': True, 'create': True, 'show': True, 'cost_estimate': True, 'index': True, 'see_lookml': True, 'see_aggregate_table_lookml': True, 'see_derived_table_lookml': True, 'see_sql': True, 'save': True, 'generate_drill_links': True, 'download': True, 'download_unlimited': True, 'use_custom_fields': True, 'edit_custom_fields': True, 'edit_table_calculations': True, 'schedule': True}, id='125', fields=['extended_jhu_templted_filter.date_date', 'extended_jhu_templted_filter.sum_linked_test'], pivots=None, fill_fields=['extended_jhu_templted_filter.date_date'], filters={'extended_jhu_templted_filter.date_filter': '90 days ago for 90 days'}, filter_expression=None, sorts=['extended_jhu_templted_filter.date_date desc'], limit='500', column_limit=None, total=None, row_total=None, subtotals=None, vis_config={'x_axis_gridlines': False, 'y_axis_gridlines': True, 'show_view_names': False, 'show_y_axis_labels': True, 'show_y_axis_ticks': True, 'y_axis_tick_density': 'default', 'y_axis_tick_density_custom': 5, 'show_x_axis_label': True, 'show_x_axis_ticks': True, 'y_axis_scale_mode': 'linear', 'x_axis_reversed': False, 'y_axis_reversed': False, 'plot_size_by_field': False, 'trellis': '', 'stacking': '', 'limit_displayed_rows': False, 'legend_position': 'center', 'point_style': 'none', 'show_value_labels': False, 'label_density': 25, 'x_axis_scale': 'auto', 'y_axis_combined': True, 'show_null_points': True, 'interpolation': 'linear', 'type': 'looker_line', 'defaults_version': 1, 'series_types': {}, 'ordering': 'none', 'show_null_labels': False, 'show_totals_labels': False, 'show_silhouette': False, 'totals_color': '#808080', 'show_row_numbers': True, 'transpose': False, 'truncate_text': True, 'hide_totals': False, 'hide_row_totals': False, 'size_to_fit': True, 'table_theme': 'white', 'enable_conditional_formatting': False, 'header_text_alignment': 'left', 'header_font_size': 12, 'rows_font_size': 12, 'conditional_formatting_include_totals': False, 'conditional_formatting_include_nulls': False}, filter_config={'extended_jhu_templted_filter.date_filter': [{'type': 'past', 'values': [{'constant': '90', 'unit': 'c_day'}, {}], 'id': 0, 'error': False}]}, visible_ui_sections=None, slug='b2gBKBQ', dynamic_fields=None, client_id='AL5eehr3JfzVani3xaj90o', share_url='https://34.72.164.128:9999/x/AL5eehr3JfzVani3xaj90o', expanded_share_url='https://34.72.164.128:9999/explore/jhu_covid/extended_jhu_templted_filter?fields=extended_jhu_templted_filter.date_date,extended_jhu_templted_filter.sum_linked_test&fill_fields=extended_jhu_templted_filter.date_date&f[extended_jhu_templted_filter.date_filter]=90+days+ago+for+90+days&sorts=extended_jhu_templted_filter.date_date+desc&limit=500&vis=%7B%22x_axis_gridlines%22%3Afalse%2C%22y_axis_gridlines%22%3Atrue%2C%22show_view_names%22%3Afalse%2C%22show_y_axis_labels%22%3Atrue%2C%22show_y_axis_ticks%22%3Atrue%2C%22y_axis_tick_density%22%3A%22default%22%2C%22y_axis_tick_density_custom%22%3A5%2C%22show_x_axis_label%22%3Atrue%2C%22show_x_axis_ticks%22%3Atrue%2C%22y_axis_scale_mode%22%3A%22linear%22%2C%22x_axis_reversed%22%3Afalse%2C%22y_axis_reversed%22%3Afalse%2C%22plot_size_by_field%22%3Afalse%2C%22trellis%22%3A%22%22%2C%22stacking%22%3A%22%22%2C%22limit_displayed_rows%22%3Afalse%2C%22legend_position%22%3A%22center%22%2C%22point_style%22%3A%22none%22%2C%22show_value_labels%22%3Afalse%2C%22label_density%22%3A25%2C%22x_axis_scale%22%3A%22auto%22%2C%22y_axis_combined%22%3Atrue%2C%22show_null_points%22%3Atrue%2C%22interpolation%22%3A%22linear%22%2C%22type%22%3A%22looker_line%22%2C%22defaults_version%22%3A1%2C%22series_types%22%3A%7B%7D%2C%22ordering%22%3A%22none%22%2C%22show_null_labels%22%3Afalse%2C%22show_totals_labels%22%3Afalse%2C%22show_silhouette%22%3Afalse%2C%22totals_color%22%3A%22%23808080%22%2C%22show_row_numbers%22%3Atrue%2C%22transpose%22%3Afalse%2C%22truncate_text%22%3Atrue%2C%22hide_totals%22%3Afalse%2C%22hide_row_totals%22%3Afalse%2C%22size_to_fit%22%3Atrue%2C%22table_theme%22%3A%22white%22%2C%22enable_conditional_formatting%22%3Afalse%2C%22header_text_alignment%22%3A%22left%22%2C%22header_font_size%22%3A12%2C%22rows_font_size%22%3A12%2C%22conditional_formatting_include_totals%22%3Afalse%2C%22conditional_formatting_include_nulls%22%3Afalse%7D&filter_config=%7B%22extended_jhu_templted_filter.date_filter%22%3A%5B%7B%22type%22%3A%22past%22%2C%22values%22%3A%5B%7B%22constant%22%3A%2290%22%2C%22unit%22%3A%22c_day%22%7D%2C%7B%7D%5D%2C%22id%22%3A0%2C%22error%22%3Afalse%7D%5D%7D&origin=share-expanded', url='/explore/jhu_covid/extended_jhu_templted_filter?fields=extended_jhu_templted_filter.date_date,extended_jhu_templted_filter.sum_linked_test&fill_fields=extended_jhu_templted_filter.date_date&f[extended_jhu_templted_filter.date_filter]=90+days+ago+for+90+days&sorts=extended_jhu_templted_filter.date_date+desc&limit=500&vis=%7B%22x_axis_gridlines%22%3Afalse%2C%22y_axis_gridlines%22%3Atrue%2C%22show_view_names%22%3Afalse%2C%22show_y_axis_labels%22%3Atrue%2C%22show_y_axis_ticks%22%3Atrue%2C%22y_axis_tick_density%22%3A%22default%22%2C%22y_axis_tick_density_custom%22%3A5%2C%22show_x_axis_label%22%3Atrue%2C%22show_x_axis_ticks%22%3Atrue%2C%22y_axis_scale_mode%22%3A%22linear%22%2C%22x_axis_reversed%22%3Afalse%2C%22y_axis_reversed%22%3Afalse%2C%22plot_size_by_field%22%3Afalse%2C%22trellis%22%3A%22%22%2C%22stacking%22%3A%22%22%2C%22limit_displayed_rows%22%3Afalse%2C%22legend_position%22%3A%22center%22%2C%22point_style%22%3A%22none%22%2C%22show_value_labels%22%3Afalse%2C%22label_density%22%3A25%2C%22x_axis_scale%22%3A%22auto%22%2C%22y_axis_combined%22%3Atrue%2C%22show_null_points%22%3Atrue%2C%22interpolation%22%3A%22linear%22%2C%22type%22%3A%22looker_line%22%2C%22defaults_version%22%3A1%2C%22series_types%22%3A%7B%7D%2C%22ordering%22%3A%22none%22%2C%22show_null_labels%22%3Afalse%2C%22show_totals_labels%22%3Afalse%2C%22show_silhouette%22%3Afalse%2C%22totals_color%22%3A%22%23808080%22%2C%22show_row_numbers%22%3Atrue%2C%22transpose%22%3Afalse%2C%22truncate_text%22%3Atrue%2C%22hide_totals%22%3Afalse%2C%22hide_row_totals%22%3Afalse%2C%22size_to_fit%22%3Atrue%2C%22table_theme%22%3A%22white%22%2C%22enable_conditional_formatting%22%3Afalse%2C%22header_text_alignment%22%3A%22left%22%2C%22header_font_size%22%3A12%2C%22rows_font_size%22%3A12%2C%22conditional_formatting_include_totals%22%3Afalse%2C%22conditional_formatting_include_nulls%22%3Afalse%7D&filter_config=%7B%22extended_jhu_templted_filter.date_filter%22%3A%5B%7B%22type%22%3A%22past%22%2C%22values%22%3A%5B%7B%22constant%22%3A%2290%22%2C%22unit%22%3A%22c_day%22%7D%2C%7B%7D%5D%2C%22id%22%3A0%2C%22error%22%3Afalse%7D%5D%7D', query_timezone=None, has_table_calculations=False)\n",
      "Query(model='jhu_covid', view='extended_jhu_templted_filter', can={'run': True, 'see_results': True, 'explore': True, 'create': True, 'show': True, 'cost_estimate': True, 'index': True, 'see_lookml': True, 'see_aggregate_table_lookml': True, 'see_derived_table_lookml': True, 'see_sql': True, 'save': True, 'generate_drill_links': True, 'download': True, 'download_unlimited': True, 'use_custom_fields': True, 'edit_custom_fields': True, 'edit_table_calculations': True, 'schedule': True}, id='887', fields=['extended_jhu_templted_filter.min_date', 'extended_jhu_templted_filter.max_date'], pivots=None, fill_fields=None, filters={'extended_jhu_templted_filter.date_filter': '2 years ago for 2 years'}, filter_expression=None, sorts=[], limit='500', column_limit='50', total=None, row_total=None, subtotals=None, vis_config={'custom_color_enabled': True, 'show_single_value_title': True, 'show_comparison': True, 'comparison_type': 'value', 'comparison_reverse_colors': False, 'show_comparison_label': True, 'enable_conditional_formatting': True, 'conditional_formatting_include_totals': False, 'conditional_formatting_include_nulls': False, 'single_value_title': 'Data Start', 'comparison_label': 'Data End', 'conditional_formatting': [{'type': 'equal to', 'value': None, 'background_color': '#1A73E8', 'font_color': None, 'color_application': {'collection_id': '7c56cc21-66e4-41c9-81ce-a60e1c3967b2', 'palette_id': '56d0c358-10a0-4fd6-aa0b-b117bef527ab'}, 'bold': False, 'italic': False, 'strikethrough': False, 'fields': None}], 'x_axis_gridlines': False, 'y_axis_gridlines': True, 'show_view_names': False, 'show_y_axis_labels': True, 'show_y_axis_ticks': True, 'y_axis_tick_density': 'default', 'y_axis_tick_density_custom': 5, 'show_x_axis_label': True, 'show_x_axis_ticks': True, 'y_axis_scale_mode': 'linear', 'x_axis_reversed': False, 'y_axis_reversed': False, 'plot_size_by_field': False, 'trellis': '', 'stacking': '', 'limit_displayed_rows': False, 'legend_position': 'center', 'point_style': 'none', 'show_value_labels': False, 'label_density': 25, 'x_axis_scale': 'auto', 'y_axis_combined': True, 'show_null_points': True, 'interpolation': 'linear', 'type': 'single_value', 'defaults_version': 1, 'series_types': {}, 'ordering': 'none', 'show_null_labels': False, 'show_totals_labels': False, 'show_silhouette': False, 'totals_color': '#808080', 'show_row_numbers': True, 'transpose': False, 'truncate_text': True, 'hide_totals': False, 'hide_row_totals': False, 'size_to_fit': True, 'table_theme': 'white', 'header_text_alignment': 'left', 'header_font_size': 12, 'rows_font_size': 12}, filter_config={'extended_jhu_templted_filter.date_filter': [{'type': 'past', 'values': [{'constant': '2', 'unit': 'c_yr'}, {}], 'id': 0, 'error': False}]}, visible_ui_sections=None, slug='c68jDHm', dynamic_fields=None, client_id='V5Up4j6j4VGRUI4hMJH4jl', share_url='https://34.72.164.128:9999/x/V5Up4j6j4VGRUI4hMJH4jl', expanded_share_url='https://34.72.164.128:9999/explore/jhu_covid/extended_jhu_templted_filter?fields=extended_jhu_templted_filter.min_date,extended_jhu_templted_filter.max_date&f[extended_jhu_templted_filter.date_filter]=2+years+ago+for+2+years&limit=500&column_limit=50&vis=%7B%22custom_color_enabled%22%3Atrue%2C%22show_single_value_title%22%3Atrue%2C%22show_comparison%22%3Atrue%2C%22comparison_type%22%3A%22value%22%2C%22comparison_reverse_colors%22%3Afalse%2C%22show_comparison_label%22%3Atrue%2C%22enable_conditional_formatting%22%3Atrue%2C%22conditional_formatting_include_totals%22%3Afalse%2C%22conditional_formatting_include_nulls%22%3Afalse%2C%22single_value_title%22%3A%22Data+Start%22%2C%22comparison_label%22%3A%22Data+End%22%2C%22conditional_formatting%22%3A%5B%7B%22type%22%3A%22equal+to%22%2C%22value%22%3Anull%2C%22background_color%22%3A%22%231A73E8%22%2C%22font_color%22%3Anull%2C%22color_application%22%3A%7B%22collection_id%22%3A%227c56cc21-66e4-41c9-81ce-a60e1c3967b2%22%2C%22palette_id%22%3A%2256d0c358-10a0-4fd6-aa0b-b117bef527ab%22%7D%2C%22bold%22%3Afalse%2C%22italic%22%3Afalse%2C%22strikethrough%22%3Afalse%2C%22fields%22%3Anull%7D%5D%2C%22x_axis_gridlines%22%3Afalse%2C%22y_axis_gridlines%22%3Atrue%2C%22show_view_names%22%3Afalse%2C%22show_y_axis_labels%22%3Atrue%2C%22show_y_axis_ticks%22%3Atrue%2C%22y_axis_tick_density%22%3A%22default%22%2C%22y_axis_tick_density_custom%22%3A5%2C%22show_x_axis_label%22%3Atrue%2C%22show_x_axis_ticks%22%3Atrue%2C%22y_axis_scale_mode%22%3A%22linear%22%2C%22x_axis_reversed%22%3Afalse%2C%22y_axis_reversed%22%3Afalse%2C%22plot_size_by_field%22%3Afalse%2C%22trellis%22%3A%22%22%2C%22stacking%22%3A%22%22%2C%22limit_displayed_rows%22%3Afalse%2C%22legend_position%22%3A%22center%22%2C%22point_style%22%3A%22none%22%2C%22show_value_labels%22%3Afalse%2C%22label_density%22%3A25%2C%22x_axis_scale%22%3A%22auto%22%2C%22y_axis_combined%22%3Atrue%2C%22show_null_points%22%3Atrue%2C%22interpolation%22%3A%22linear%22%2C%22type%22%3A%22single_value%22%2C%22defaults_version%22%3A1%2C%22series_types%22%3A%7B%7D%2C%22ordering%22%3A%22none%22%2C%22show_null_labels%22%3Afalse%2C%22show_totals_labels%22%3Afalse%2C%22show_silhouette%22%3Afalse%2C%22totals_color%22%3A%22%23808080%22%2C%22show_row_numbers%22%3Atrue%2C%22transpose%22%3Afalse%2C%22truncate_text%22%3Atrue%2C%22hide_totals%22%3Afalse%2C%22hide_row_totals%22%3Afalse%2C%22size_to_fit%22%3Atrue%2C%22table_theme%22%3A%22white%22%2C%22header_text_alignment%22%3A%22left%22%2C%22header_font_size%22%3A12%2C%22rows_font_size%22%3A12%7D&filter_config=%7B%22extended_jhu_templted_filter.date_filter%22%3A%5B%7B%22type%22%3A%22past%22%2C%22values%22%3A%5B%7B%22constant%22%3A%222%22%2C%22unit%22%3A%22c_yr%22%7D%2C%7B%7D%5D%2C%22id%22%3A0%2C%22error%22%3Afalse%7D%5D%7D&origin=share-expanded', url='/explore/jhu_covid/extended_jhu_templted_filter?fields=extended_jhu_templted_filter.min_date,extended_jhu_templted_filter.max_date&f[extended_jhu_templted_filter.date_filter]=2+years+ago+for+2+years&limit=500&column_limit=50&vis=%7B%22custom_color_enabled%22%3Atrue%2C%22show_single_value_title%22%3Atrue%2C%22show_comparison%22%3Atrue%2C%22comparison_type%22%3A%22value%22%2C%22comparison_reverse_colors%22%3Afalse%2C%22show_comparison_label%22%3Atrue%2C%22enable_conditional_formatting%22%3Atrue%2C%22conditional_formatting_include_totals%22%3Afalse%2C%22conditional_formatting_include_nulls%22%3Afalse%2C%22single_value_title%22%3A%22Data+Start%22%2C%22comparison_label%22%3A%22Data+End%22%2C%22conditional_formatting%22%3A%5B%7B%22type%22%3A%22equal+to%22%2C%22value%22%3Anull%2C%22background_color%22%3A%22%231A73E8%22%2C%22font_color%22%3Anull%2C%22color_application%22%3A%7B%22collection_id%22%3A%227c56cc21-66e4-41c9-81ce-a60e1c3967b2%22%2C%22palette_id%22%3A%2256d0c358-10a0-4fd6-aa0b-b117bef527ab%22%7D%2C%22bold%22%3Afalse%2C%22italic%22%3Afalse%2C%22strikethrough%22%3Afalse%2C%22fields%22%3Anull%7D%5D%2C%22x_axis_gridlines%22%3Afalse%2C%22y_axis_gridlines%22%3Atrue%2C%22show_view_names%22%3Afalse%2C%22show_y_axis_labels%22%3Atrue%2C%22show_y_axis_ticks%22%3Atrue%2C%22y_axis_tick_density%22%3A%22default%22%2C%22y_axis_tick_density_custom%22%3A5%2C%22show_x_axis_label%22%3Atrue%2C%22show_x_axis_ticks%22%3Atrue%2C%22y_axis_scale_mode%22%3A%22linear%22%2C%22x_axis_reversed%22%3Afalse%2C%22y_axis_reversed%22%3Afalse%2C%22plot_size_by_field%22%3Afalse%2C%22trellis%22%3A%22%22%2C%22stacking%22%3A%22%22%2C%22limit_displayed_rows%22%3Afalse%2C%22legend_position%22%3A%22center%22%2C%22point_style%22%3A%22none%22%2C%22show_value_labels%22%3Afalse%2C%22label_density%22%3A25%2C%22x_axis_scale%22%3A%22auto%22%2C%22y_axis_combined%22%3Atrue%2C%22show_null_points%22%3Atrue%2C%22interpolation%22%3A%22linear%22%2C%22type%22%3A%22single_value%22%2C%22defaults_version%22%3A1%2C%22series_types%22%3A%7B%7D%2C%22ordering%22%3A%22none%22%2C%22show_null_labels%22%3Afalse%2C%22show_totals_labels%22%3Afalse%2C%22show_silhouette%22%3Afalse%2C%22totals_color%22%3A%22%23808080%22%2C%22show_row_numbers%22%3Atrue%2C%22transpose%22%3Afalse%2C%22truncate_text%22%3Atrue%2C%22hide_totals%22%3Afalse%2C%22hide_row_totals%22%3Afalse%2C%22size_to_fit%22%3Atrue%2C%22table_theme%22%3A%22white%22%2C%22header_text_alignment%22%3A%22left%22%2C%22header_font_size%22%3A12%2C%22rows_font_size%22%3A12%7D&filter_config=%7B%22extended_jhu_templted_filter.date_filter%22%3A%5B%7B%22type%22%3A%22past%22%2C%22values%22%3A%5B%7B%22constant%22%3A%222%22%2C%22unit%22%3A%22c_yr%22%7D%2C%7B%7D%5D%2C%22id%22%3A0%2C%22error%22%3Afalse%7D%5D%7D', query_timezone=None, has_table_calculations=False)\n",
      "{\"format\":\"slate\"}\n"
     ]
    }
   ],
   "source": [
    "for tile in tiles:\n",
    "    if tile.query: \n",
    "        print(tile.query)\n",
    "    else:\n",
    "        print(tile.rich_content_json)"
   ]
  },
  {
   "cell_type": "code",
   "execution_count": null,
   "metadata": {},
   "outputs": [],
   "source": [
    "dash_1.get_all_tiles_data(prod.sdk)"
   ]
  },
  {
   "cell_type": "code",
   "execution_count": null,
   "metadata": {},
   "outputs": [],
   "source": []
  }
 ],
 "metadata": {
  "kernelspec": {
   "display_name": "Python 3",
   "language": "python",
   "name": "python3"
  },
  "language_info": {
   "codemirror_mode": {
    "name": "ipython",
    "version": 3
   },
   "file_extension": ".py",
   "mimetype": "text/x-python",
   "name": "python",
   "nbconvert_exporter": "python",
   "pygments_lexer": "ipython3",
   "version": "3.10.9"
  },
  "orig_nbformat": 4
 },
 "nbformat": 4,
 "nbformat_minor": 2
}
