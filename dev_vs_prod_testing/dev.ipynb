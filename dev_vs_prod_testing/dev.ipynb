{
 "cells": [
  {
   "cell_type": "code",
   "execution_count": 30,
   "metadata": {},
   "outputs": [],
   "source": [
    "import pandas as pd\n",
    "from dashboard_validator import LookerEnvironment,Dashboard\n",
    "import configparser\n"
   ]
  },
  {
   "cell_type": "code",
   "execution_count": 31,
   "metadata": {},
   "outputs": [
    {
     "data": {
      "text/plain": [
       "['VM', 'Teach', 'Looker']"
      ]
     },
     "execution_count": 31,
     "metadata": {},
     "output_type": "execute_result"
    }
   ],
   "source": [
    "config = configparser.ConfigParser()\n",
    "config.read('looker.ini')\n",
    "config.sections()"
   ]
  },
  {
   "cell_type": "code",
   "execution_count": 32,
   "metadata": {},
   "outputs": [
    {
     "data": {
      "text/plain": [
       "'rr_testing_dev_vs_prod'"
      ]
     },
     "execution_count": 32,
     "metadata": {},
     "output_type": "execute_result"
    }
   ],
   "source": [
    "config['VM']['dev_branch']"
   ]
  },
  {
   "cell_type": "code",
   "execution_count": 33,
   "metadata": {},
   "outputs": [],
   "source": [
    "config_file = \"looker.ini\"\n",
    "config.read(config_file)\n",
    "dev_branch = config['VM']['dev_branch']\n",
    "project_name = config['VM']['project']\n",
    "\n",
    "\n",
    "# Instantiate the dev and prod sdks\n",
    "prod = LookerEnvironment('production',config_instance='VM')"
   ]
  },
  {
   "cell_type": "code",
   "execution_count": 41,
   "metadata": {},
   "outputs": [
    {
     "name": "stdout",
     "output_type": "stream",
     "text": [
      "\u001b[95mTesting Production:\u001b[00m\n",
      "Skipping: TextBox or Button/Link\n",
      "Skipping: TextBox or Button/Link\n",
      "Skipping: Markdown File\n",
      "Skipping: TextBox or Button/Link\n",
      "Skipping: Tile:Merged Query\n"
     ]
    }
   ],
   "source": [
    "dashboard = Dashboard('2') # Enter the dashboard number you'd like to test here\n",
    "\n",
    "print(\"\\033[95mTesting Production:\\033[00m\")\n",
    "prod_tiles = dashboard.get_all_tiles_data(prod.sdk)"
   ]
  },
  {
   "cell_type": "code",
   "execution_count": 44,
   "metadata": {},
   "outputs": [
    {
     "data": {
      "text/html": [
       "<div>\n",
       "<style scoped>\n",
       "    .dataframe tbody tr th:only-of-type {\n",
       "        vertical-align: middle;\n",
       "    }\n",
       "\n",
       "    .dataframe tbody tr th {\n",
       "        vertical-align: top;\n",
       "    }\n",
       "\n",
       "    .dataframe thead th {\n",
       "        text-align: right;\n",
       "    }\n",
       "</style>\n",
       "<table border=\"1\" class=\"dataframe\">\n",
       "  <thead>\n",
       "    <tr style=\"text-align: right;\">\n",
       "      <th></th>\n",
       "      <th>cascadeagg.int_formatted_as_id</th>\n",
       "      <th>cascadeagg.int_formatted_as_decimal_0</th>\n",
       "      <th>cascadeagg.test_string</th>\n",
       "    </tr>\n",
       "  </thead>\n",
       "  <tbody>\n",
       "    <tr>\n",
       "      <th>0</th>\n",
       "      <td>1234567890</td>\n",
       "      <td>1234567890</td>\n",
       "      <td>Test</td>\n",
       "    </tr>\n",
       "    <tr>\n",
       "      <th>1</th>\n",
       "      <td>2222222222</td>\n",
       "      <td>2222222222</td>\n",
       "      <td>Test</td>\n",
       "    </tr>\n",
       "  </tbody>\n",
       "</table>\n",
       "</div>"
      ],
      "text/plain": [
       "   cascadeagg.int_formatted_as_id  cascadeagg.int_formatted_as_decimal_0  \\\n",
       "0                      1234567890                             1234567890   \n",
       "1                      2222222222                             2222222222   \n",
       "\n",
       "  cascadeagg.test_string  \n",
       "0                   Test  \n",
       "1                   Test  "
      ]
     },
     "execution_count": 44,
     "metadata": {},
     "output_type": "execute_result"
    }
   ],
   "source": [
    "prod_tiles[2]"
   ]
  },
  {
   "cell_type": "code",
   "execution_count": 46,
   "metadata": {},
   "outputs": [],
   "source": [
    "tiles_in_dashboard = dashboard.get_all_dashboard_elements(prod.sdk)"
   ]
  },
  {
   "cell_type": "code",
   "execution_count": 47,
   "metadata": {},
   "outputs": [
    {
     "name": "stdout",
     "output_type": "stream",
     "text": [
      "4\n",
      "{'extended_jhu_templted_filter.date_filter': '2 years ago for 2 years'}\n",
      "6\n",
      "{'extended_jhu_templted_filter.date_filter': '2 years ago for 2 years'}\n",
      "7\n",
      "None\n"
     ]
    }
   ],
   "source": [
    "index = 0\n",
    "for tile in tiles_in_dashboard:\n",
    "    if dashboard.map_tile_metadata_to_type(tile) == 'Tile':\n",
    "        print(index)\n",
    "        print(tile.query.filters)\n",
    "    index +=1\n"
   ]
  },
  {
   "cell_type": "code",
   "execution_count": 48,
   "metadata": {},
   "outputs": [
    {
     "data": {
      "text/plain": [
       "{'can': {'create': True,\n",
       "  'update': True,\n",
       "  'destroy': True,\n",
       "  'see_aggregate_table_lookml': True,\n",
       "  'index': True,\n",
       "  'show': True,\n",
       "  'explore': True,\n",
       "  'run': False,\n",
       "  'show_errors': True,\n",
       "  'find_and_replace': True},\n",
       " 'body_text': None,\n",
       " 'body_text_as_html': None,\n",
       " 'dashboard_id': '2',\n",
       " 'edit_uri': None,\n",
       " 'id': '17',\n",
       " 'look': None,\n",
       " 'look_id': None,\n",
       " 'lookml_link_id': '',\n",
       " 'merge_result_id': None,\n",
       " 'note_display': None,\n",
       " 'note_state': None,\n",
       " 'note_text': None,\n",
       " 'note_text_as_html': None,\n",
       " 'query': Query(model='one_off_testing', view='cascadeagg', can={'run': True, 'see_results': True, 'explore': True, 'create': True, 'show': True, 'cost_estimate': True, 'index': True, 'see_lookml': True, 'see_aggregate_table_lookml': True, 'see_derived_table_lookml': True, 'see_sql': True, 'save': True, 'generate_drill_links': True, 'download': True, 'download_unlimited': True, 'use_custom_fields': True, 'edit_custom_fields': True, 'edit_table_calculations': True, 'schedule': True}, id='928', fields=['cascadeagg.int_formatted_as_id', 'cascadeagg.int_formatted_as_decimal_0', 'cascadeagg.test_string'], pivots=None, fill_fields=None, filters=None, filter_expression=None, sorts=['cascadeagg.int_formatted_as_id'], limit='500', column_limit=None, total=None, row_total=None, subtotals=None, vis_config={'show_view_names': False, 'show_row_numbers': True, 'truncate_column_names': False, 'hide_totals': False, 'hide_row_totals': False, 'table_theme': 'editable', 'limit_displayed_rows': False, 'enable_conditional_formatting': False, 'conditional_formatting_include_totals': False, 'conditional_formatting_include_nulls': False, 'type': 'table', 'defaults_version': 1}, filter_config={}, visible_ui_sections=None, slug='j7jxy3r', dynamic_fields=None, client_id='smEBVO9NMmywEeEeOhVZqx', share_url='https://34.72.164.128:9999/x/smEBVO9NMmywEeEeOhVZqx', expanded_share_url='https://34.72.164.128:9999/explore/one_off_testing/cascadeagg?fields=cascadeagg.int_formatted_as_id,cascadeagg.int_formatted_as_decimal_0,cascadeagg.test_string&sorts=cascadeagg.int_formatted_as_id&limit=500&vis=%7B%22show_view_names%22%3Afalse%2C%22show_row_numbers%22%3Atrue%2C%22truncate_column_names%22%3Afalse%2C%22hide_totals%22%3Afalse%2C%22hide_row_totals%22%3Afalse%2C%22table_theme%22%3A%22editable%22%2C%22limit_displayed_rows%22%3Afalse%2C%22enable_conditional_formatting%22%3Afalse%2C%22conditional_formatting_include_totals%22%3Afalse%2C%22conditional_formatting_include_nulls%22%3Afalse%2C%22type%22%3A%22table%22%2C%22defaults_version%22%3A1%7D&filter_config=%7B%7D&origin=share-expanded', url='/explore/one_off_testing/cascadeagg?fields=cascadeagg.int_formatted_as_id,cascadeagg.int_formatted_as_decimal_0,cascadeagg.test_string&sorts=cascadeagg.int_formatted_as_id&limit=500&vis=%7B%22show_view_names%22%3Afalse%2C%22show_row_numbers%22%3Atrue%2C%22truncate_column_names%22%3Afalse%2C%22hide_totals%22%3Afalse%2C%22hide_row_totals%22%3Afalse%2C%22table_theme%22%3A%22editable%22%2C%22limit_displayed_rows%22%3Afalse%2C%22enable_conditional_formatting%22%3Afalse%2C%22conditional_formatting_include_totals%22%3Afalse%2C%22conditional_formatting_include_nulls%22%3Afalse%2C%22type%22%3A%22table%22%2C%22defaults_version%22%3A1%7D&filter_config=%7B%7D', query_timezone=None, has_table_calculations=False),\n",
       " 'query_id': '928',\n",
       " 'refresh_interval': None,\n",
       " 'refresh_interval_to_i': None,\n",
       " 'result_maker': ResultMakerWithIdVisConfigAndDynamicFields(id='475', dynamic_fields=None, filterables=[ResultMakerFilterables(model='one_off_testing', view='cascadeagg', name='', listen=[ResultMakerFilterablesListen(dashboard_filter_name='Int Formatted As ID', field='cascadeagg.int_formatted_as_id')])], sorts=['cascadeagg.int_formatted_as_id'], merge_result_id=None, total=False, query_id='928', sql_query_id='', query=Query(model='one_off_testing', view='cascadeagg', can={'run': True, 'see_results': True, 'explore': True, 'create': True, 'show': True, 'cost_estimate': True, 'index': True, 'see_lookml': True, 'see_aggregate_table_lookml': True, 'see_derived_table_lookml': True, 'see_sql': True, 'save': True, 'generate_drill_links': True, 'download': True, 'download_unlimited': True, 'use_custom_fields': True, 'edit_custom_fields': True, 'edit_table_calculations': True, 'schedule': True}, id='928', fields=['cascadeagg.int_formatted_as_id', 'cascadeagg.int_formatted_as_decimal_0', 'cascadeagg.test_string'], pivots=None, fill_fields=None, filters=None, filter_expression=None, sorts=['cascadeagg.int_formatted_as_id'], limit='500', column_limit=None, total=None, row_total=None, subtotals=None, vis_config={'show_view_names': False, 'show_row_numbers': True, 'truncate_column_names': False, 'hide_totals': False, 'hide_row_totals': False, 'table_theme': 'editable', 'limit_displayed_rows': False, 'enable_conditional_formatting': False, 'conditional_formatting_include_totals': False, 'conditional_formatting_include_nulls': False, 'type': 'table', 'defaults_version': 1}, filter_config={}, visible_ui_sections=None, slug='j7jxy3r', dynamic_fields=None, client_id='smEBVO9NMmywEeEeOhVZqx', share_url='https://34.72.164.128:9999/x/smEBVO9NMmywEeEeOhVZqx', expanded_share_url='https://34.72.164.128:9999/explore/one_off_testing/cascadeagg?fields=cascadeagg.int_formatted_as_id,cascadeagg.int_formatted_as_decimal_0,cascadeagg.test_string&sorts=cascadeagg.int_formatted_as_id&limit=500&vis=%7B%22show_view_names%22%3Afalse%2C%22show_row_numbers%22%3Atrue%2C%22truncate_column_names%22%3Afalse%2C%22hide_totals%22%3Afalse%2C%22hide_row_totals%22%3Afalse%2C%22table_theme%22%3A%22editable%22%2C%22limit_displayed_rows%22%3Afalse%2C%22enable_conditional_formatting%22%3Afalse%2C%22conditional_formatting_include_totals%22%3Afalse%2C%22conditional_formatting_include_nulls%22%3Afalse%2C%22type%22%3A%22table%22%2C%22defaults_version%22%3A1%7D&filter_config=%7B%7D&origin=share-expanded', url='/explore/one_off_testing/cascadeagg?fields=cascadeagg.int_formatted_as_id,cascadeagg.int_formatted_as_decimal_0,cascadeagg.test_string&sorts=cascadeagg.int_formatted_as_id&limit=500&vis=%7B%22show_view_names%22%3Afalse%2C%22show_row_numbers%22%3Atrue%2C%22truncate_column_names%22%3Afalse%2C%22hide_totals%22%3Afalse%2C%22hide_row_totals%22%3Afalse%2C%22table_theme%22%3A%22editable%22%2C%22limit_displayed_rows%22%3Afalse%2C%22enable_conditional_formatting%22%3Afalse%2C%22conditional_formatting_include_totals%22%3Afalse%2C%22conditional_formatting_include_nulls%22%3Afalse%2C%22type%22%3A%22table%22%2C%22defaults_version%22%3A1%7D&filter_config=%7B%7D', query_timezone=None, has_table_calculations=False), vis_config={'show_view_names': False, 'show_row_numbers': True, 'truncate_column_names': False, 'hide_totals': False, 'hide_row_totals': False, 'table_theme': 'editable', 'limit_displayed_rows': False, 'enable_conditional_formatting': False, 'conditional_formatting_include_totals': False, 'conditional_formatting_include_nulls': False, 'type': 'table', 'defaults_version': 1}),\n",
       " 'result_maker_id': '475',\n",
       " 'subtitle_text': None,\n",
       " 'title': 'New Tile',\n",
       " 'title_hidden': False,\n",
       " 'title_text': None,\n",
       " 'type': 'vis',\n",
       " 'alert_count': 0,\n",
       " 'rich_content_json': None,\n",
       " 'title_text_as_html': None,\n",
       " 'subtitle_text_as_html': None,\n",
       " 'extension_id': None}"
      ]
     },
     "execution_count": 48,
     "metadata": {},
     "output_type": "execute_result"
    }
   ],
   "source": [
    "tiles_in_dashboard[7].__dict__\n"
   ]
  },
  {
   "cell_type": "code",
   "execution_count": 49,
   "metadata": {},
   "outputs": [
    {
     "data": {
      "text/plain": [
       "'928'"
      ]
     },
     "execution_count": 49,
     "metadata": {},
     "output_type": "execute_result"
    }
   ],
   "source": [
    "tiles_in_dashboard[7].query_id\n"
   ]
  },
  {
   "cell_type": "code",
   "execution_count": 51,
   "metadata": {},
   "outputs": [
    {
     "data": {
      "text/html": [
       "<div>\n",
       "<style scoped>\n",
       "    .dataframe tbody tr th:only-of-type {\n",
       "        vertical-align: middle;\n",
       "    }\n",
       "\n",
       "    .dataframe tbody tr th {\n",
       "        vertical-align: top;\n",
       "    }\n",
       "\n",
       "    .dataframe thead th {\n",
       "        text-align: right;\n",
       "    }\n",
       "</style>\n",
       "<table border=\"1\" class=\"dataframe\">\n",
       "  <thead>\n",
       "    <tr style=\"text-align: right;\">\n",
       "      <th></th>\n",
       "      <th>cascadeagg.int_formatted_as_id</th>\n",
       "      <th>cascadeagg.int_formatted_as_decimal_0</th>\n",
       "      <th>cascadeagg.test_string</th>\n",
       "    </tr>\n",
       "  </thead>\n",
       "  <tbody>\n",
       "    <tr>\n",
       "      <th>0</th>\n",
       "      <td>1234567890</td>\n",
       "      <td>1234567890</td>\n",
       "      <td>Test</td>\n",
       "    </tr>\n",
       "    <tr>\n",
       "      <th>1</th>\n",
       "      <td>2222222222</td>\n",
       "      <td>2222222222</td>\n",
       "      <td>Test</td>\n",
       "    </tr>\n",
       "  </tbody>\n",
       "</table>\n",
       "</div>"
      ],
      "text/plain": [
       "   cascadeagg.int_formatted_as_id  cascadeagg.int_formatted_as_decimal_0  \\\n",
       "0                      1234567890                             1234567890   \n",
       "1                      2222222222                             2222222222   \n",
       "\n",
       "  cascadeagg.test_string  \n",
       "0                   Test  \n",
       "1                   Test  "
      ]
     },
     "execution_count": 51,
     "metadata": {},
     "output_type": "execute_result"
    }
   ],
   "source": [
    "pd.read_json(prod.sdk.run_query(query_id=tiles_in_dashboard[7].query_id, result_format=\"json\"))\n"
   ]
  },
  {
   "cell_type": "code",
   "execution_count": null,
   "metadata": {},
   "outputs": [],
   "source": []
  }
 ],
 "metadata": {
  "kernelspec": {
   "display_name": "Python 3",
   "language": "python",
   "name": "python3"
  },
  "language_info": {
   "codemirror_mode": {
    "name": "ipython",
    "version": 3
   },
   "file_extension": ".py",
   "mimetype": "text/x-python",
   "name": "python",
   "nbconvert_exporter": "python",
   "pygments_lexer": "ipython3",
   "version": "3.10.9"
  },
  "orig_nbformat": 4
 },
 "nbformat": 4,
 "nbformat_minor": 2
}
